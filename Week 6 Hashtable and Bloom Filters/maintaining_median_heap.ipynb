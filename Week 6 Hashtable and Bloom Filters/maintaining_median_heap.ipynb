{
 "cells": [
  {
   "cell_type": "code",
   "execution_count": 1,
   "metadata": {
    "collapsed": false
   },
   "outputs": [
    {
     "name": "stdout",
     "output_type": "stream",
     "text": [
      "1213\n"
     ]
    }
   ],
   "source": [
    "import heapq\n",
    "\n",
    "min_heap = []\n",
    "max_heap = []\n",
    "res = 0\n",
    "with open('Median.txt') as f:\n",
    "    for line in f:\n",
    "        val = int(line)\n",
    "        if not max_heap or val < -max_heap[0]:\n",
    "            heapq.heappush(max_heap, -val)\n",
    "        else:\n",
    "            heapq.heappush(min_heap, val)\n",
    "        if len(max_heap) - len(min_heap) > 1:\n",
    "            heapq.heappush(min_heap, -heapq.heappop(max_heap))\n",
    "        if len(min_heap) > len(max_heap):\n",
    "            heapq.heappush(max_heap, -heapq.heappop(min_heap))\n",
    "        res += -max_heap[0]\n",
    "\n",
    "print res % 10000"
   ]
  },
  {
   "cell_type": "code",
   "execution_count": null,
   "metadata": {
    "collapsed": true
   },
   "outputs": [],
   "source": []
  }
 ],
 "metadata": {
  "anaconda-cloud": {},
  "kernelspec": {
   "display_name": "Python [Root]",
   "language": "python",
   "name": "Python [Root]"
  },
  "language_info": {
   "codemirror_mode": {
    "name": "ipython",
    "version": 2
   },
   "file_extension": ".py",
   "mimetype": "text/x-python",
   "name": "python",
   "nbconvert_exporter": "python",
   "pygments_lexer": "ipython2",
   "version": "2.7.12"
  }
 },
 "nbformat": 4,
 "nbformat_minor": 0
}
