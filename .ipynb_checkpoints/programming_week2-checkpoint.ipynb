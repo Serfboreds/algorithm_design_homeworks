{
 "cells": [
  {
   "cell_type": "code",
   "execution_count": 9,
   "metadata": {
    "collapsed": false
   },
   "outputs": [
    {
     "name": "stdout",
     "output_type": "stream",
     "text": [
      "Populating the interactive namespace from numpy and matplotlib\n"
     ]
    }
   ],
   "source": [
    "from __future__ import division, print_function\n",
    "%pylab inline\n",
    "import pandas as pd\n",
    "import numpy as np\n",
    "import scipy as sp"
   ]
  },
  {
   "cell_type": "code",
   "execution_count": 22,
   "metadata": {
    "collapsed": false
   },
   "outputs": [],
   "source": [
    "input_array = list(pd.read_csv('QuickSort.txt', header=None)[0].values)"
   ]
  },
  {
   "cell_type": "code",
   "execution_count": 23,
   "metadata": {
    "collapsed": false
   },
   "outputs": [
    {
     "data": {
      "text/plain": [
       "10000"
      ]
     },
     "execution_count": 23,
     "metadata": {},
     "output_type": "execute_result"
    }
   ],
   "source": [
    "len(input_array)"
   ]
  },
  {
   "cell_type": "code",
   "execution_count": 24,
   "metadata": {
    "collapsed": false
   },
   "outputs": [],
   "source": [
    "def partition(A, l, r):\n",
    "    '''the partition subroutine'''\n",
    "    \n",
    "    #If pivot is NOT the first element, SWAP pivot with the very first element\n",
    "    if 1 != 0:\n",
    "        A[0], A[l] = A[l], A[0]\n",
    "        l = 0\n",
    "    \n",
    "    #Proceed with the partition as described in the course\n",
    "    p = A[l]\n",
    "    i = l+1\n",
    "        \n",
    "    for j in range(l+1, r):\n",
    "        if A[j] < p:\n",
    "            A[j], A[i] = A[i], A[j]\n",
    "            i += 1\n",
    "\n",
    "    A[l], A[i-1] = A[i-1], A[l]\n",
    "    \n",
    "    #Keeping track of the number of comparisons\n",
    "    global comparisons \n",
    "    comparisons += r-l-1\n",
    "    partition.total_comparisons = comparisons\n",
    "    \n",
    "    return A[:i-1], [A[i-1]], A[i:]"
   ]
  },
  {
   "cell_type": "code",
   "execution_count": 25,
   "metadata": {
    "collapsed": false
   },
   "outputs": [],
   "source": [
    "def quicksort(array, n):\n",
    "    if n > 1:\n",
    "        l = choosePivot(array, n)\n",
    "        r = n\n",
    "        left_array, pivot, right_array = partition(array, l, r)\n",
    "        \n",
    "        return quicksort(left_array, len(left_array)) + pivot + quicksort(right_array, len(right_array))\n",
    "    else:\n",
    "        return array"
   ]
  },
  {
   "cell_type": "code",
   "execution_count": 26,
   "metadata": {
    "collapsed": false
   },
   "outputs": [],
   "source": [
    "def choosePivot(array, n):\n",
    "    '''first element as pivot'''\n",
    "#     return 0\n",
    "    \n",
    "    '''last element as pivot'''\n",
    "#     return n-1\n",
    "    \n",
    "    '''\"median of three\" as pivot'''\n",
    "    if len(array) == 2:\n",
    "        return 0\n",
    "    else:\n",
    "        a = 0\n",
    "        b = len(array)//2 - 1 if len(array) % 2 == 0 else len(array)//2\n",
    "        c = n - 1\n",
    "        \n",
    "        median3 = lambda a, b, c: sum([a,b,c]) - min([a,b,c]) - max([a,b,c])     \n",
    "       \n",
    "    return (array[a] == median3(array[a],array[b],array[c]))*a or (array[b] == median3(array[a],array[b],array[c]))*b or (array[c] == median3(array[a],array[b],array[c]))*c \n",
    "    "
   ]
  },
  {
   "cell_type": "code",
   "execution_count": 27,
   "metadata": {
    "collapsed": false
   },
   "outputs": [
    {
     "data": {
      "text/plain": [
       "138382"
      ]
     },
     "execution_count": 27,
     "metadata": {},
     "output_type": "execute_result"
    }
   ],
   "source": [
    "comparisons = 0\n",
    "quicksort(input_array, len(input_array))\n",
    "partition.total_comparisons"
   ]
  },
  {
   "cell_type": "code",
   "execution_count": null,
   "metadata": {
    "collapsed": true
   },
   "outputs": [],
   "source": []
  },
  {
   "cell_type": "code",
   "execution_count": null,
   "metadata": {
    "collapsed": true
   },
   "outputs": [],
   "source": []
  },
  {
   "cell_type": "code",
   "execution_count": null,
   "metadata": {
    "collapsed": false
   },
   "outputs": [],
   "source": []
  },
  {
   "cell_type": "code",
   "execution_count": null,
   "metadata": {
    "collapsed": true
   },
   "outputs": [],
   "source": []
  }
 ],
 "metadata": {
  "kernelspec": {
   "display_name": "Python 2",
   "language": "python",
   "name": "python2"
  },
  "language_info": {
   "codemirror_mode": {
    "name": "ipython",
    "version": 2
   },
   "file_extension": ".py",
   "mimetype": "text/x-python",
   "name": "python",
   "nbconvert_exporter": "python",
   "pygments_lexer": "ipython2",
   "version": "2.7.12"
  }
 },
 "nbformat": 4,
 "nbformat_minor": 0
}
