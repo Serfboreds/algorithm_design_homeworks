{
 "cells": [
  {
   "cell_type": "code",
   "execution_count": 9,
   "metadata": {
    "collapsed": false
   },
   "outputs": [
    {
     "name": "stdout",
     "output_type": "stream",
     "text": [
      "Populating the interactive namespace from numpy and matplotlib\n"
     ]
    }
   ],
   "source": [
    "from __future__ import division, print_function\n",
    "%pylab inline\n",
    "import pandas as pd\n",
    "import numpy as np\n",
    "import scipy as sp\n",
    "from collections import defaultdict"
   ]
  },
  {
   "cell_type": "code",
   "execution_count": 10,
   "metadata": {
    "collapsed": true
   },
   "outputs": [],
   "source": [
    "lines = tuple(open('dijkstraData.txt', 'rU'))"
   ]
  },
  {
   "cell_type": "code",
   "execution_count": 13,
   "metadata": {
    "collapsed": false
   },
   "outputs": [],
   "source": [
    "nodes = set()\n",
    "edges = defaultdict(list)\n",
    "distances = {}"
   ]
  },
  {
   "cell_type": "code",
   "execution_count": 14,
   "metadata": {
    "collapsed": true
   },
   "outputs": [],
   "source": [
    "nodes = ('A', 'B', 'C', 'D', 'E', 'F', 'G')\n",
    "distances = {\n",
    "    'B': {'A': 5, 'D': 1, 'G': 2},\n",
    "    'A': {'B': 5, 'D': 3, 'E': 12, 'F' :5},\n",
    "    'D': {'B': 1, 'G': 1, 'E': 1, 'A': 3},\n",
    "    'G': {'B': 2, 'D': 1, 'C': 2},\n",
    "    'C': {'G': 2, 'E': 1, 'F': 16},\n",
    "    'E': {'A': 12, 'D': 1, 'C': 1, 'F': 2},\n",
    "    'F': {'A': 5, 'E': 2, 'C': 16}}"
   ]
  },
  {
   "cell_type": "code",
   "execution_count": 46,
   "metadata": {
    "collapsed": false
   },
   "outputs": [],
   "source": [
    "distances = { int(l.split('\\t')[0]) : { int(pairs.split(',')[0]) : int(pairs.split(',')[1]) for pairs in l.split('\\t')[1:-1]} for l in lines }"
   ]
  },
  {
   "cell_type": "code",
   "execution_count": 48,
   "metadata": {
    "collapsed": false
   },
   "outputs": [],
   "source": [
    "nodes = distances.keys()"
   ]
  },
  {
   "cell_type": "code",
   "execution_count": 54,
   "metadata": {
    "collapsed": true
   },
   "outputs": [],
   "source": [
    "unvisited = {node: None for node in nodes} #using None as +inf\n",
    "visited = {}\n",
    "current = 1\n",
    "currentDistance = 0\n",
    "unvisited[current] = currentDistance"
   ]
  },
  {
   "cell_type": "code",
   "execution_count": 55,
   "metadata": {
    "collapsed": false
   },
   "outputs": [
    {
     "name": "stdout",
     "output_type": "stream",
     "text": [
      "{1: 0, 2: 2971, 3: 2644, 4: 3056, 5: 2525, 6: 2818, 7: 2599, 8: 1875, 9: 745, 10: 3205, 11: 1551, 12: 2906, 13: 2394, 14: 1803, 15: 2942, 16: 1837, 17: 3111, 18: 2284, 19: 1044, 20: 2351, 21: 3630, 22: 4028, 23: 2650, 24: 3653, 25: 2249, 26: 2150, 27: 1222, 28: 2090, 29: 3540, 30: 2303, 31: 3455, 32: 3004, 33: 2551, 34: 2656, 35: 998, 36: 2236, 37: 2610, 38: 3548, 39: 1851, 40: 4091, 41: 2732, 42: 2040, 43: 3312, 44: 2142, 45: 3438, 46: 2937, 47: 2979, 48: 2757, 49: 2437, 50: 3152, 51: 2503, 52: 2817, 53: 2420, 54: 3369, 55: 2862, 56: 2609, 57: 2857, 58: 3668, 59: 2947, 60: 2592, 61: 1676, 62: 2573, 63: 2498, 64: 2047, 65: 826, 66: 3393, 67: 2535, 68: 4636, 69: 3650, 70: 743, 71: 1265, 72: 1539, 73: 3007, 74: 4286, 75: 2720, 76: 3220, 77: 2298, 78: 2795, 79: 2806, 80: 982, 81: 2976, 82: 2052, 83: 3997, 84: 2656, 85: 1193, 86: 2461, 87: 1608, 88: 3046, 89: 3261, 90: 2018, 91: 2786, 92: 647, 93: 3542, 94: 3415, 95: 2186, 96: 2398, 97: 4248, 98: 3515, 99: 2367, 100: 2970, 101: 3536, 102: 2478, 103: 1826, 104: 2551, 105: 3368, 106: 2303, 107: 2540, 108: 1169, 109: 3140, 110: 2317, 111: 2535, 112: 1759, 113: 1899, 114: 508, 115: 2399, 116: 3513, 117: 2597, 118: 2176, 119: 1090, 120: 2328, 121: 2818, 122: 1306, 123: 2805, 124: 2057, 125: 2618, 126: 1694, 127: 3285, 128: 1203, 129: 676, 130: 1820, 131: 1445, 132: 2468, 133: 2029, 134: 1257, 135: 1533, 136: 2417, 137: 3599, 138: 2494, 139: 4101, 140: 546, 141: 1889, 142: 2616, 143: 2141, 144: 2359, 145: 648, 146: 2682, 147: 3464, 148: 2873, 149: 3109, 150: 2183, 151: 4159, 152: 1832, 153: 2080, 154: 1831, 155: 2001, 156: 3013, 157: 2143, 158: 1376, 159: 1627, 160: 2403, 161: 4772, 162: 2556, 163: 2124, 164: 1693, 165: 2442, 166: 3814, 167: 2630, 168: 2038, 169: 2776, 170: 1365, 171: 3929, 172: 1990, 173: 2069, 174: 3558, 175: 1432, 176: 2279, 177: 3829, 178: 2435, 179: 3691, 180: 3027, 181: 2345, 182: 3807, 183: 2145, 184: 2703, 185: 2884, 186: 3806, 187: 1151, 188: 2505, 189: 2340, 190: 2596, 191: 4123, 192: 1737, 193: 3136, 194: 1073, 195: 1707, 196: 2417, 197: 3068, 198: 1724, 199: 815, 200: 2060}\n"
     ]
    }
   ],
   "source": [
    "while True:\n",
    "    for neighbour, distance in distances[current].items():\n",
    "        if neighbour not in unvisited: continue\n",
    "        newDistance = currentDistance + distance\n",
    "        if unvisited[neighbour] is None or unvisited[neighbour] > newDistance:\n",
    "            unvisited[neighbour] = newDistance\n",
    "    visited[current] = currentDistance\n",
    "    del unvisited[current]\n",
    "    if not unvisited: break\n",
    "    candidates = [node for node in unvisited.items() if node[1]]\n",
    "    current, currentDistance = sorted(candidates, key = lambda x: x[1])[0]\n",
    "\n",
    "print(visited)"
   ]
  },
  {
   "cell_type": "code",
   "execution_count": 58,
   "metadata": {
    "collapsed": true
   },
   "outputs": [],
   "source": [
    "destinations = [7,37,59,82,99,115,133,165,188,197]"
   ]
  },
  {
   "cell_type": "code",
   "execution_count": 59,
   "metadata": {
    "collapsed": false
   },
   "outputs": [
    {
     "data": {
      "text/plain": [
       "[2599, 2610, 2947, 2052, 2367, 2399, 2029, 2442, 2505, 3068]"
      ]
     },
     "execution_count": 59,
     "metadata": {},
     "output_type": "execute_result"
    }
   ],
   "source": [
    "[visited[d] for d in destinations]"
   ]
  },
  {
   "cell_type": "code",
   "execution_count": null,
   "metadata": {
    "collapsed": true
   },
   "outputs": [],
   "source": []
  },
  {
   "cell_type": "code",
   "execution_count": null,
   "metadata": {
    "collapsed": true
   },
   "outputs": [],
   "source": []
  },
  {
   "cell_type": "code",
   "execution_count": null,
   "metadata": {
    "collapsed": true
   },
   "outputs": [],
   "source": []
  }
 ],
 "metadata": {
  "anaconda-cloud": {},
  "kernelspec": {
   "display_name": "Python [Root]",
   "language": "python",
   "name": "Python [Root]"
  },
  "language_info": {
   "codemirror_mode": {
    "name": "ipython",
    "version": 2
   },
   "file_extension": ".py",
   "mimetype": "text/x-python",
   "name": "python",
   "nbconvert_exporter": "python",
   "pygments_lexer": "ipython2",
   "version": "2.7.12"
  }
 },
 "nbformat": 4,
 "nbformat_minor": 0
}
