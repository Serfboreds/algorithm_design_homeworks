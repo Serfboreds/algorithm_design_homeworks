{
 "cells": [
  {
   "cell_type": "code",
   "execution_count": 50,
   "metadata": {
    "collapsed": false
   },
   "outputs": [
    {
     "name": "stdout",
     "output_type": "stream",
     "text": [
      "Populating the interactive namespace from numpy and matplotlib\n"
     ]
    }
   ],
   "source": [
    "from __future__ import division, print_function\n",
    "%pylab inline\n",
    "import pandas as pd\n",
    "import numpy as np\n",
    "import scipy as sp"
   ]
  },
  {
   "cell_type": "code",
   "execution_count": 69,
   "metadata": {
    "collapsed": false
   },
   "outputs": [],
   "source": [
    "lines = tuple(open('kargerMinCut.txt', 'rU'))\n",
    "adjacency_list = [map(int, l.split('\\t')[:-1]) for l in lines]"
   ]
  },
  {
   "cell_type": "code",
   "execution_count": 70,
   "metadata": {
    "collapsed": false
   },
   "outputs": [
    {
     "data": {
      "text/plain": [
       "200"
      ]
     },
     "execution_count": 70,
     "metadata": {},
     "output_type": "execute_result"
    }
   ],
   "source": [
    "len(adjacency_list)"
   ]
  },
  {
   "cell_type": "code",
   "execution_count": 71,
   "metadata": {
    "collapsed": false
   },
   "outputs": [],
   "source": [
    "#Convert adjacency list to a dictionary\n",
    "original_adj_dict = {i+1: adjacency_list[i][1:] for i in range(len(adjacency_list))}"
   ]
  },
  {
   "cell_type": "code",
   "execution_count": 72,
   "metadata": {
    "collapsed": false
   },
   "outputs": [],
   "source": [
    "#Function for returning a list of all vertices\n",
    "vertices = lambda adj_dict: adj_dict.keys()"
   ]
  },
  {
   "cell_type": "code",
   "execution_count": 73,
   "metadata": {
    "collapsed": false
   },
   "outputs": [],
   "source": [
    "#Function for returning a list of all edges \n",
    "#The tuples for the edges are in SET so that the order of the numbers in the tuple doesn't matter\n",
    "def edges(adj_dict):\n",
    "    edges = []\n",
    "    for n in adj_dict:\n",
    "        for neighbors in adj_dict[n]:\n",
    "            if set((n, neighbors)) not in edges:\n",
    "                edges.append( {n,neighbors} )\n",
    "    return edges"
   ]
  },
  {
   "cell_type": "code",
   "execution_count": 75,
   "metadata": {
    "collapsed": false
   },
   "outputs": [
    {
     "name": "stdout",
     "output_type": "stream",
     "text": [
      "22,20,28,20,23,21,26,29,20,21,20,21,26,22,17,21,23,27,23,24,20,20,21,20,27,26,26,22,20,20,21,21,21,22,26,21,21,21,21,22,21,27,20,22,20,20,20,20,22,23,21,20,22,24,26,28,24,24,20,24,21,24,22,21,23,26,21,20,22,24,21,20,21,21,21,24,20,24,24,26,27,26,26,22,21,26,21,21,22,23,30,20,26,27,26,20,31,20,24,"
     ]
    }
   ],
   "source": [
    "min_cuts = []\n",
    "\n",
    "for i in range(1,100):\n",
    "    #Start out with SET of Edges (set in Python, i.e. order in the tuple doesn't matter)\n",
    "    edges_list = edges(original_adj_dict.copy())\n",
    "    vertices_list = vertices(original_adj_dict)\n",
    "\n",
    "    #Set random seed\n",
    "    np.random.seed(i)\n",
    "\n",
    "    #Rerun the process below until only 2 vertices are left\n",
    "    #Then count the number of edges - that's the minimum cut for this run\n",
    "    while len(vertices_list) > 2:\n",
    "        #From the Edges set, randomly pick an edge to delete, let's say (6,155)\n",
    "        #Also, pick a Vertice (from the selected edge) to eliminate, e.g. contract vertice 155 into vertice 6\n",
    "        vertice_to_delete, vertice_to_replace = np.random.choice(edges_list)\n",
    "\n",
    "        #In the edges set, ALL of the vertices with the number 155 gets replaced by 6...\n",
    "        #because vertice 155 is deleted and 6 inherits all of 155's neighbors, including 6 itself\n",
    "        #After this replacement, delete any self-loop (i.e. (6,6) in this example) to obtain a new edges list\n",
    "        edges_list = [{a,b} for a, b in \\\n",
    "                      [(vertice_to_replace, v2) if v1 == vertice_to_delete \\\n",
    "                       else (v1, vertice_to_replace) if v2 == vertice_to_delete \\\n",
    "                       else (v1,v2) for v1, v2 in edges_list] if a != b]  \n",
    "\n",
    "        #Subtract the deleted vertice from the vertices list \n",
    "        vertices_list.remove(vertice_to_delete)\n",
    "    \n",
    "    print(len(edges_list), end=\",\")\n",
    "    min_cuts.append(len(edges_list))\n"
   ]
  },
  {
   "cell_type": "code",
   "execution_count": 76,
   "metadata": {
    "collapsed": false
   },
   "outputs": [
    {
     "data": {
      "text/plain": [
       "17"
      ]
     },
     "execution_count": 76,
     "metadata": {},
     "output_type": "execute_result"
    }
   ],
   "source": [
    "min(min_cuts)"
   ]
  },
  {
   "cell_type": "code",
   "execution_count": null,
   "metadata": {
    "collapsed": true
   },
   "outputs": [],
   "source": []
  },
  {
   "cell_type": "code",
   "execution_count": null,
   "metadata": {
    "collapsed": true
   },
   "outputs": [],
   "source": []
  },
  {
   "cell_type": "code",
   "execution_count": null,
   "metadata": {
    "collapsed": true
   },
   "outputs": [],
   "source": []
  }
 ],
 "metadata": {
  "kernelspec": {
   "display_name": "Python 2",
   "language": "python",
   "name": "python2"
  },
  "language_info": {
   "codemirror_mode": {
    "name": "ipython",
    "version": 2
   },
   "file_extension": ".py",
   "mimetype": "text/x-python",
   "name": "python",
   "nbconvert_exporter": "python",
   "pygments_lexer": "ipython2",
   "version": "2.7.12"
  }
 },
 "nbformat": 4,
 "nbformat_minor": 0
}
