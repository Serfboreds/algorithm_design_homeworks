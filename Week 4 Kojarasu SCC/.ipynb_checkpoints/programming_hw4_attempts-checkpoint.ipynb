{
 "cells": [
  {
   "cell_type": "code",
   "execution_count": 1,
   "metadata": {
    "collapsed": false
   },
   "outputs": [
    {
     "name": "stdout",
     "output_type": "stream",
     "text": [
      "Populating the interactive namespace from numpy and matplotlib\n"
     ]
    }
   ],
   "source": [
    "from __future__ import division, print_function\n",
    "%pylab inline\n",
    "import pandas as pd\n",
    "import numpy as np\n",
    "import scipy as sp\n",
    "from collections import defaultdict"
   ]
  },
  {
   "cell_type": "code",
   "execution_count": 2,
   "metadata": {
    "collapsed": true
   },
   "outputs": [],
   "source": [
    "filename = '../../large_data_files/SCC.txt'"
   ]
  },
  {
   "cell_type": "code",
   "execution_count": 3,
   "metadata": {
    "collapsed": false
   },
   "outputs": [],
   "source": [
    "original_edges = [(int(l.split(\" \")[0]), int(l.split(\" \")[1])) for l in open(filename).read().splitlines()]"
   ]
  },
  {
   "cell_type": "code",
   "execution_count": 8,
   "metadata": {
    "collapsed": false
   },
   "outputs": [],
   "source": [
    "#Function for creating a Graph/Adjacency dictionary\n",
    "def Graph(input_edges):\n",
    "    d = {}\n",
    "    for k,v in input_edges:\n",
    "        if k in d: d[k].append(v)\n",
    "        else: d[k] = [v]\n",
    "    #If defaultdict(list) is used here, then there wouldn't be a need for the below for loop...\n",
    "    for k, v in input_edges: \n",
    "        if v not in d: d[v] = []\n",
    "    return d"
   ]
  },
  {
   "cell_type": "code",
   "execution_count": 5,
   "metadata": {
    "collapsed": false
   },
   "outputs": [],
   "source": [
    "original_graph = Graph(original_edges)"
   ]
  },
  {
   "cell_type": "code",
   "execution_count": 6,
   "metadata": {
    "collapsed": false
   },
   "outputs": [],
   "source": [
    "#Function for Reversing A Graph\n",
    "def Reverse(original_graph):\n",
    "    new_dict = defaultdict(list)\n",
    "    for k, v in original_graph.items():\n",
    "        for num in v:\n",
    "            new_dict[num].append(k)\n",
    "    return new_dict"
   ]
  },
  {
   "cell_type": "code",
   "execution_count": 7,
   "metadata": {
    "collapsed": false
   },
   "outputs": [],
   "source": [
    "reverse_graph = Reverse(original_graph)"
   ]
  },
  {
   "cell_type": "code",
   "execution_count": 8,
   "metadata": {
    "collapsed": false
   },
   "outputs": [],
   "source": [
    "#Function for returning a list of all vertices\n",
    "Vertices = lambda adj_dict: adj_dict.keys()"
   ]
  },
  {
   "cell_type": "code",
   "execution_count": 9,
   "metadata": {
    "collapsed": true
   },
   "outputs": [],
   "source": [
    "original_vertices = Vertices(original_graph)"
   ]
  },
  {
   "cell_type": "code",
   "execution_count": 9,
   "metadata": {
    "collapsed": false
   },
   "outputs": [],
   "source": [
    "#Function for Depth First Search using a Stack and Recursion\n",
    "def DFS(graph, start):\n",
    "    global explored \n",
    "    explored = set()\n",
    "    all_unexplored_vertices = [start]\n",
    "    #Check if there are any unexplored vertices in the stack at all\n",
    "    #If there are still unexplored vertices, do the following\n",
    "    while all_unexplored_vertices:\n",
    "        #pick an unexplored vertex from the END of the stack\n",
    "        #this is most often the immediately unexplored vertex in front of current vertex\n",
    "        #but could also be a previously unexplored vertex while backtracking\n",
    "        vertex = all_unexplored_vertices.pop() #LIFO\n",
    "        #print('current_vertex', vertex)\n",
    "        if vertex not in explored:\n",
    "            explored.add(vertex)\n",
    "            #print('all_explored', explored)\n",
    "            #print('next_destination(s)', graph[vertex])\n",
    "            #extends: appends a list to a list\n",
    "            #appends all immediately/current unexplored vertices to the END of all unexplored vertices stack \n",
    "            #Because of LIFO, the last appended vertice(s) will become the first one(s) to be picked to be explored\n",
    "            #either immediately or later on while backtracking\n",
    "            all_unexplored_vertices.extend(set(graph[vertex]) - explored)\n",
    "            #print('all_unexplored',all_unexplored_vertices)\n",
    "            \n",
    "    #print('vertex', vertex)\n",
    "    #print()\n",
    "    return explored"
   ]
  },
  {
   "cell_type": "code",
   "execution_count": 103,
   "metadata": {
    "collapsed": false
   },
   "outputs": [],
   "source": [
    "def DFS_LOOP(original_graph):\n",
    "    \n",
    "    global t\n",
    "    global s\n",
    "    global explored \n",
    "    t = 0\n",
    "    s = []\n",
    "    explored = set()\n",
    "    \n",
    "    reverse_graph = Reverse(original_graph)\n",
    "    \n",
    "    for vertex in range(max(original_graph.keys()),0,-1):\n",
    "        if vertex not in explored:\n",
    "            s.append(vertex)\n",
    "            DFS(reverse_graph, vertex)\n",
    "    "
   ]
  },
  {
   "cell_type": "code",
   "execution_count": 104,
   "metadata": {
    "collapsed": false
   },
   "outputs": [
    {
     "name": "stdout",
     "output_type": "stream",
     "text": [
      "current_vertex 9\n",
      "all_explored set([9])\n",
      "next_destination(s) [6]\n",
      "all_unexplored [6]\n",
      "current_vertex 6\n",
      "all_explored set([9, 6])\n",
      "next_destination(s) [3, 8]\n",
      "all_unexplored [8, 3]\n",
      "current_vertex 3\n",
      "all_explored set([9, 3, 6])\n",
      "next_destination(s) [9]\n",
      "all_unexplored [8]\n",
      "current_vertex 8\n",
      "all_explored set([8, 9, 3, 6])\n",
      "next_destination(s) [2]\n",
      "all_unexplored [2]\n",
      "current_vertex 2\n",
      "all_explored set([8, 9, 2, 3, 6])\n",
      "next_destination(s) [5]\n",
      "all_unexplored [5]\n",
      "current_vertex 5\n",
      "all_explored set([2, 3, 5, 6, 8, 9])\n",
      "next_destination(s) [8]\n",
      "all_unexplored []\n",
      "vertex 5\n",
      "\n",
      "current_vertex 7\n",
      "all_explored set([2, 3, 5, 6, 7, 8, 9])\n",
      "next_destination(s) [4, 9]\n",
      "all_unexplored [4]\n",
      "current_vertex 4\n",
      "all_explored set([2, 3, 4, 5, 6, 7, 8, 9])\n",
      "next_destination(s) [1]\n",
      "all_unexplored [1]\n",
      "current_vertex 1\n",
      "all_explored set([1, 2, 3, 4, 5, 6, 7, 8, 9])\n",
      "next_destination(s) [7]\n",
      "all_unexplored []\n",
      "vertex 1\n",
      "\n"
     ]
    }
   ],
   "source": [
    "DFS_LOOP(original_graph)"
   ]
  },
  {
   "cell_type": "code",
   "execution_count": null,
   "metadata": {
    "collapsed": true
   },
   "outputs": [],
   "source": []
  },
  {
   "cell_type": "code",
   "execution_count": null,
   "metadata": {
    "collapsed": true
   },
   "outputs": [],
   "source": []
  },
  {
   "cell_type": "code",
   "execution_count": null,
   "metadata": {
    "collapsed": true
   },
   "outputs": [],
   "source": []
  },
  {
   "cell_type": "code",
   "execution_count": 34,
   "metadata": {
    "collapsed": true
   },
   "outputs": [],
   "source": [
    "a=[1,35,6,3]"
   ]
  },
  {
   "cell_type": "code",
   "execution_count": 35,
   "metadata": {
    "collapsed": false
   },
   "outputs": [
    {
     "data": {
      "text/plain": [
       "3"
      ]
     },
     "execution_count": 35,
     "metadata": {},
     "output_type": "execute_result"
    }
   ],
   "source": [
    "a.pop() #LIFO"
   ]
  },
  {
   "cell_type": "code",
   "execution_count": 36,
   "metadata": {
    "collapsed": false
   },
   "outputs": [],
   "source": [
    "a.extend([100,22])"
   ]
  },
  {
   "cell_type": "code",
   "execution_count": 37,
   "metadata": {
    "collapsed": false
   },
   "outputs": [
    {
     "data": {
      "text/plain": [
       "[1, 35, 6, 100, 22]"
      ]
     },
     "execution_count": 37,
     "metadata": {},
     "output_type": "execute_result"
    }
   ],
   "source": [
    "a"
   ]
  },
  {
   "cell_type": "code",
   "execution_count": 2,
   "metadata": {
    "collapsed": false
   },
   "outputs": [],
   "source": [
    "#Recursive without stacking\n",
    "def DFS_recursion(graph, start, explored=None):\n",
    "    if explored is None: explored = []\n",
    "    explored.append(start)\n",
    "    for v in graph[start]:\n",
    "        if v not in explored:\n",
    "            DFS(graph, v, explored)\n",
    "    return explored"
   ]
  },
  {
   "cell_type": "code",
   "execution_count": 10,
   "metadata": {
    "collapsed": false
   },
   "outputs": [
    {
     "name": "stdout",
     "output_type": "stream",
     "text": [
      "current_vertex 3\n"
     ]
    },
    {
     "ename": "NameError",
     "evalue": "global name 'explored' is not defined",
     "output_type": "error",
     "traceback": [
      "\u001b[0;31m---------------------------------------------------------------------------\u001b[0m",
      "\u001b[0;31mNameError\u001b[0m                                 Traceback (most recent call last)",
      "\u001b[0;32m<ipython-input-10-71e911fcd98a>\u001b[0m in \u001b[0;36m<module>\u001b[0;34m()\u001b[0m\n\u001b[0;32m----> 1\u001b[0;31m \u001b[0mDFS\u001b[0m\u001b[0;34m(\u001b[0m\u001b[0moriginal_edges\u001b[0m\u001b[0;34m,\u001b[0m \u001b[0;36m3\u001b[0m\u001b[0;34m)\u001b[0m\u001b[0;34m\u001b[0m\u001b[0m\n\u001b[0m",
      "\u001b[0;32m<ipython-input-9-2949eb8ccf47>\u001b[0m in \u001b[0;36mDFS\u001b[0;34m(graph, start)\u001b[0m\n\u001b[1;32m     12\u001b[0m         \u001b[0mvertex\u001b[0m \u001b[0;34m=\u001b[0m \u001b[0mall_unexplored_vertices\u001b[0m\u001b[0;34m.\u001b[0m\u001b[0mpop\u001b[0m\u001b[0;34m(\u001b[0m\u001b[0;34m)\u001b[0m \u001b[0;31m#LIFO\u001b[0m\u001b[0;34m\u001b[0m\u001b[0m\n\u001b[1;32m     13\u001b[0m         \u001b[0;32mprint\u001b[0m\u001b[0;34m(\u001b[0m\u001b[0;34m'current_vertex'\u001b[0m\u001b[0;34m,\u001b[0m \u001b[0mvertex\u001b[0m\u001b[0;34m)\u001b[0m\u001b[0;34m\u001b[0m\u001b[0m\n\u001b[0;32m---> 14\u001b[0;31m         \u001b[0;32mif\u001b[0m \u001b[0mvertex\u001b[0m \u001b[0;32mnot\u001b[0m \u001b[0;32min\u001b[0m \u001b[0mexplored\u001b[0m\u001b[0;34m:\u001b[0m\u001b[0;34m\u001b[0m\u001b[0m\n\u001b[0m\u001b[1;32m     15\u001b[0m             \u001b[0mexplored\u001b[0m\u001b[0;34m.\u001b[0m\u001b[0madd\u001b[0m\u001b[0;34m(\u001b[0m\u001b[0mvertex\u001b[0m\u001b[0;34m)\u001b[0m\u001b[0;34m\u001b[0m\u001b[0m\n\u001b[1;32m     16\u001b[0m             \u001b[0;32mprint\u001b[0m\u001b[0;34m(\u001b[0m\u001b[0;34m'all_explored'\u001b[0m\u001b[0;34m,\u001b[0m \u001b[0mexplored\u001b[0m\u001b[0;34m)\u001b[0m\u001b[0;34m\u001b[0m\u001b[0m\n",
      "\u001b[0;31mNameError\u001b[0m: global name 'explored' is not defined"
     ]
    }
   ],
   "source": [
    "DFS(original_edges, 3)"
   ]
  },
  {
   "cell_type": "code",
   "execution_count": null,
   "metadata": {
    "collapsed": true
   },
   "outputs": [],
   "source": []
  },
  {
   "cell_type": "code",
   "execution_count": 67,
   "metadata": {
    "collapsed": false
   },
   "outputs": [],
   "source": [
    "#Function for returning a list of all edges \n",
    "#The tuples for the edges are in SET so that the order of the numbers in the tuple doesn't matter\n",
    "def edges(adj_dict):\n",
    "    edges = []\n",
    "    for n in adj_dict:\n",
    "        for neighbors in adj_dict[n]:\n",
    "            if set((n, neighbors)) not in edges:\n",
    "                edges.append( {n,neighbors} )\n",
    "    return edges"
   ]
  },
  {
   "cell_type": "code",
   "execution_count": 75,
   "metadata": {
    "collapsed": false
   },
   "outputs": [
    {
     "name": "stdout",
     "output_type": "stream",
     "text": [
      "22,20,28,20,23,21,26,29,20,21,20,21,26,22,17,21,23,27,23,24,20,20,21,20,27,26,26,22,20,20,21,21,21,22,26,21,21,21,21,22,21,27,20,22,20,20,20,20,22,23,21,20,22,24,26,28,24,24,20,24,21,24,22,21,23,26,21,20,22,24,21,20,21,21,21,24,20,24,24,26,27,26,26,22,21,26,21,21,22,23,30,20,26,27,26,20,31,20,24,"
     ]
    }
   ],
   "source": [
    "min_cuts = []\n",
    "\n",
    "for i in range(1,100):\n",
    "    #Start out with SET of Edges (set in Python, i.e. order in the tuple doesn't matter)\n",
    "    edges_list = edges(original_adj_dict.copy())\n",
    "    vertices_list = vertices(original_adj_dict)\n",
    "\n",
    "    #Set random seed\n",
    "    np.random.seed(i)\n",
    "\n",
    "    #Rerun the process below until only 2 vertices are left\n",
    "    #Then count the number of edges - that's the minimum cut for this run\n",
    "    while len(vertices_list) > 2:\n",
    "        #From the Edges set, randomly pick an edge to delete, let's say (6,155)\n",
    "        #Also, pick a Vertice (from the selected edge) to eliminate, e.g. contract vertice 155 into vertice 6\n",
    "        vertice_to_delete, vertice_to_replace = np.random.choice(edges_list)\n",
    "\n",
    "        #In the edges set, ALL of the vertices with the number 155 gets replaced by 6...\n",
    "        #because vertice 155 is deleted and 6 inherits all of 155's neighbors, including 6 itself\n",
    "        #After this replacement, delete any self-loop (i.e. (6,6) in this example) to obtain a new edges list\n",
    "        edges_list = [{a,b} for a, b in \\\n",
    "                      [(vertice_to_replace, v2) if v1 == vertice_to_delete \\\n",
    "                       else (v1, vertice_to_replace) if v2 == vertice_to_delete \\\n",
    "                       else (v1,v2) for v1, v2 in edges_list] if a != b]  \n",
    "\n",
    "        #Subtract the deleted vertice from the vertices list \n",
    "        vertices_list.remove(vertice_to_delete)\n",
    "    \n",
    "    print(len(edges_list), end=\",\")\n",
    "    min_cuts.append(len(edges_list))\n"
   ]
  },
  {
   "cell_type": "code",
   "execution_count": 76,
   "metadata": {
    "collapsed": false
   },
   "outputs": [
    {
     "data": {
      "text/plain": [
       "17"
      ]
     },
     "execution_count": 76,
     "metadata": {},
     "output_type": "execute_result"
    }
   ],
   "source": [
    "min(min_cuts)"
   ]
  },
  {
   "cell_type": "code",
   "execution_count": null,
   "metadata": {
    "collapsed": true
   },
   "outputs": [],
   "source": []
  },
  {
   "cell_type": "code",
   "execution_count": null,
   "metadata": {
    "collapsed": true
   },
   "outputs": [],
   "source": []
  },
  {
   "cell_type": "code",
   "execution_count": null,
   "metadata": {
    "collapsed": true
   },
   "outputs": [],
   "source": []
  }
 ],
 "metadata": {
  "anaconda-cloud": {},
  "kernelspec": {
   "display_name": "Python [Root]",
   "language": "python",
   "name": "Python [Root]"
  },
  "language_info": {
   "codemirror_mode": {
    "name": "ipython",
    "version": 2
   },
   "file_extension": ".py",
   "mimetype": "text/x-python",
   "name": "python",
   "nbconvert_exporter": "python",
   "pygments_lexer": "ipython2",
   "version": "2.7.12"
  }
 },
 "nbformat": 4,
 "nbformat_minor": 0
}
