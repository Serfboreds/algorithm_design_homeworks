{
 "cells": [
  {
   "cell_type": "code",
   "execution_count": 5,
   "metadata": {
    "collapsed": false
   },
   "outputs": [
    {
     "name": "stdout",
     "output_type": "stream",
     "text": [
      "Populating the interactive namespace from numpy and matplotlib\n"
     ]
    }
   ],
   "source": [
    "from __future__ import division, print_function\n",
    "%pylab inline\n",
    "import pandas as pd\n",
    "import numpy as np\n",
    "import scipy as sp"
   ]
  },
  {
   "cell_type": "code",
   "execution_count": 232,
   "metadata": {
    "collapsed": false
   },
   "outputs": [],
   "source": [
    "def merge(A, B):\n",
    "    C = []\n",
    "    j = 0\n",
    "    i = 0\n",
    "    for k in range(0,len(A) + len(B)):\n",
    "        \n",
    "#         print(A,B)\n",
    "#         print('k=',k)\n",
    "#         print('i=',i)\n",
    "#         print('j=',j)\n",
    "        \n",
    "        if i < len(A) and j < len(B):\n",
    "            if A[i] <= B[j]:\n",
    "                C.append(A[i])\n",
    "                i += 1\n",
    "            else:\n",
    "                C.append(B[j])\n",
    "                j += 1\n",
    "        elif j == len(B):\n",
    "            C.append(A[i])\n",
    "            i += 1\n",
    "        elif i == len(A):\n",
    "            C.append(B[j])\n",
    "            j += 1\n",
    "#         print('C:',C)      \n",
    "    return C"
   ]
  },
  {
   "cell_type": "code",
   "execution_count": 233,
   "metadata": {
    "collapsed": false
   },
   "outputs": [],
   "source": [
    "def merge_sort(input):\n",
    "    if len(input) > 1:\n",
    "        A = input[0:len(input)//2]\n",
    "        B = input[len(input)//2:]\n",
    "#         print(A,B)\n",
    "        return merge(merge_sort(A), merge_sort(B))\n",
    "    else:\n",
    "        return input"
   ]
  },
  {
   "cell_type": "code",
   "execution_count": 234,
   "metadata": {
    "collapsed": false,
    "scrolled": false
   },
   "outputs": [
    {
     "data": {
      "text/plain": [
       "[1, 2, 3, 4, 5, 6, 7, 8]"
      ]
     },
     "execution_count": 234,
     "metadata": {},
     "output_type": "execute_result"
    }
   ],
   "source": [
    "merge_sort([5,4,1,8,7,2,6,3])"
   ]
  },
  {
   "cell_type": "code",
   "execution_count": null,
   "metadata": {
    "collapsed": false
   },
   "outputs": [],
   "source": []
  },
  {
   "cell_type": "code",
   "execution_count": 436,
   "metadata": {
    "collapsed": true
   },
   "outputs": [],
   "source": [
    "def merge_and_count_split_inversions(A, B):\n",
    "    C = []\n",
    "    j = 0\n",
    "    i = 0\n",
    "    num_split_inversions = 0\n",
    "    \n",
    "    for k in range(0,len(A) + len(B)):\n",
    "        \n",
    "        if i < len(A) and j < len(B):\n",
    "            if A[i] <= B[j]:\n",
    "                C.append(A[i])\n",
    "                i += 1\n",
    "            else:\n",
    "                C.append(B[j])\n",
    "                j += 1\n",
    "                num_split_inversions += len(A) - i\n",
    "        elif j == len(B):\n",
    "            C.append(A[i])\n",
    "            i += 1\n",
    "        elif i == len(A):\n",
    "            C.append(B[j])\n",
    "            j += 1\n",
    "    \n",
    "    global inversion_each_merge\n",
    "    inversion_each_merge += num_split_inversions\n",
    "\n",
    "    merge_and_count_split_inversions.total_inversions = inversion_each_merge\n",
    "    \n",
    "    return C"
   ]
  },
  {
   "cell_type": "code",
   "execution_count": 437,
   "metadata": {
    "collapsed": false
   },
   "outputs": [],
   "source": [
    "def sort_and_count(input):    \n",
    "    if len(input) > 1:\n",
    "        A = input[0:len(input)//2]\n",
    "        B = input[len(input)//2:]\n",
    "        \n",
    "        return merge_and_count_split_inversions(sort_and_count(A), sort_and_count(B))\n",
    "    else:\n",
    "        return input"
   ]
  },
  {
   "cell_type": "code",
   "execution_count": 483,
   "metadata": {
    "collapsed": false
   },
   "outputs": [
    {
     "data": {
      "text/plain": [
       "3"
      ]
     },
     "execution_count": 483,
     "metadata": {},
     "output_type": "execute_result"
    }
   ],
   "source": [
    "inversion_each_merge = 0\n",
    "sort_and_count([1,3,5,2,4,6])\n",
    "merge_and_count_split_inversions.total_inversions"
   ]
  },
  {
   "cell_type": "code",
   "execution_count": 485,
   "metadata": {
    "collapsed": false
   },
   "outputs": [
    {
     "data": {
      "text/plain": [
       "2407905288"
      ]
     },
     "execution_count": 485,
     "metadata": {},
     "output_type": "execute_result"
    }
   ],
   "source": [
    "input_array = list(pd.read_csv('IntegerArray.txt', header=None)[0].values)\n",
    "\n",
    "inversion_each_merge = 0\n",
    "sort_and_count(input_array)\n",
    "merge_and_count_split_inversions.total_inversions"
   ]
  },
  {
   "cell_type": "code",
   "execution_count": null,
   "metadata": {
    "collapsed": true
   },
   "outputs": [],
   "source": []
  }
 ],
 "metadata": {
  "kernelspec": {
   "display_name": "Python 2",
   "language": "python",
   "name": "python2"
  },
  "language_info": {
   "codemirror_mode": {
    "name": "ipython",
    "version": 2
   },
   "file_extension": ".py",
   "mimetype": "text/x-python",
   "name": "python",
   "nbconvert_exporter": "python",
   "pygments_lexer": "ipython2",
   "version": "2.7.12"
  }
 },
 "nbformat": 4,
 "nbformat_minor": 0
}
